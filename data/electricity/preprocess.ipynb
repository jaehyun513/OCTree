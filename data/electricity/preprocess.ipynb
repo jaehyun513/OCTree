{
 "cells": [
  {
   "cell_type": "code",
   "execution_count": 2,
   "metadata": {},
   "outputs": [],
   "source": [
    "import numpy as np\n",
    "import sklearn.datasets as datasets\n",
    "from sklearn.preprocessing import MinMaxScaler\n",
    "import pandas as pd\n",
    "import random\n",
    "import os\n",
    "import json\n",
    "\n",
    "def seed_everything(seed: int = 42):\n",
    "    random.seed(seed)\n",
    "    np.random.seed(seed)\n",
    "    os.environ[\"PYTHONHASHSEED\"] = str(seed)"
   ]
  },
  {
   "cell_type": "code",
   "execution_count": 3,
   "metadata": {},
   "outputs": [
    {
     "name": "stderr",
     "output_type": "stream",
     "text": [
      "/home/jaehyun/anaconda3/envs/tab/lib/python3.8/site-packages/sklearn/datasets/_openml.py:1022: FutureWarning: The default value of `parser` will change from `'liac-arff'` to `'auto'` in 1.4. You can set `parser='auto'` to silence this warning. Therefore, an `ImportError` will be raised from 1.4 if the dataset is dense and pandas is not installed. Note that the pandas parser may return different data types. See the Notes Section in fetch_openml's API doc for details.\n",
      "  warn(\n"
     ]
    },
    {
     "data": {
      "text/html": [
       "<div>\n",
       "<style scoped>\n",
       "    .dataframe tbody tr th:only-of-type {\n",
       "        vertical-align: middle;\n",
       "    }\n",
       "\n",
       "    .dataframe tbody tr th {\n",
       "        vertical-align: top;\n",
       "    }\n",
       "\n",
       "    .dataframe thead th {\n",
       "        text-align: right;\n",
       "    }\n",
       "</style>\n",
       "<table border=\"1\" class=\"dataframe\">\n",
       "  <thead>\n",
       "    <tr style=\"text-align: right;\">\n",
       "      <th></th>\n",
       "      <th>date</th>\n",
       "      <th>day</th>\n",
       "      <th>period</th>\n",
       "      <th>nswprice</th>\n",
       "      <th>nswdemand</th>\n",
       "      <th>vicprice</th>\n",
       "      <th>vicdemand</th>\n",
       "      <th>transfer</th>\n",
       "      <th>class</th>\n",
       "    </tr>\n",
       "  </thead>\n",
       "  <tbody>\n",
       "    <tr>\n",
       "      <th>0</th>\n",
       "      <td>0.898987</td>\n",
       "      <td>2</td>\n",
       "      <td>0.957447</td>\n",
       "      <td>0.068632</td>\n",
       "      <td>0.568283</td>\n",
       "      <td>0.004456</td>\n",
       "      <td>0.456499</td>\n",
       "      <td>0.644737</td>\n",
       "      <td>DOWN</td>\n",
       "    </tr>\n",
       "    <tr>\n",
       "      <th>1</th>\n",
       "      <td>0.867616</td>\n",
       "      <td>5</td>\n",
       "      <td>0.234043</td>\n",
       "      <td>0.033716</td>\n",
       "      <td>0.337102</td>\n",
       "      <td>0.001672</td>\n",
       "      <td>0.329622</td>\n",
       "      <td>0.846930</td>\n",
       "      <td>DOWN</td>\n",
       "    </tr>\n",
       "    <tr>\n",
       "      <th>2</th>\n",
       "      <td>0.009159</td>\n",
       "      <td>6</td>\n",
       "      <td>0.255319</td>\n",
       "      <td>0.059175</td>\n",
       "      <td>0.185808</td>\n",
       "      <td>0.003467</td>\n",
       "      <td>0.422915</td>\n",
       "      <td>0.414912</td>\n",
       "      <td>DOWN</td>\n",
       "    </tr>\n",
       "    <tr>\n",
       "      <th>3</th>\n",
       "      <td>0.898987</td>\n",
       "      <td>2</td>\n",
       "      <td>0.531915</td>\n",
       "      <td>0.087577</td>\n",
       "      <td>0.539572</td>\n",
       "      <td>0.004936</td>\n",
       "      <td>0.637752</td>\n",
       "      <td>0.491667</td>\n",
       "      <td>DOWN</td>\n",
       "    </tr>\n",
       "    <tr>\n",
       "      <th>4</th>\n",
       "      <td>0.868280</td>\n",
       "      <td>6</td>\n",
       "      <td>0.085106</td>\n",
       "      <td>0.027021</td>\n",
       "      <td>0.165129</td>\n",
       "      <td>0.001271</td>\n",
       "      <td>0.265924</td>\n",
       "      <td>0.748246</td>\n",
       "      <td>DOWN</td>\n",
       "    </tr>\n",
       "  </tbody>\n",
       "</table>\n",
       "</div>"
      ],
      "text/plain": [
       "       date day    period  nswprice  nswdemand  vicprice  vicdemand  transfer  \\\n",
       "0  0.898987   2  0.957447  0.068632   0.568283  0.004456   0.456499  0.644737   \n",
       "1  0.867616   5  0.234043  0.033716   0.337102  0.001672   0.329622  0.846930   \n",
       "2  0.009159   6  0.255319  0.059175   0.185808  0.003467   0.422915  0.414912   \n",
       "3  0.898987   2  0.531915  0.087577   0.539572  0.004936   0.637752  0.491667   \n",
       "4  0.868280   6  0.085106  0.027021   0.165129  0.001271   0.265924  0.748246   \n",
       "\n",
       "  class  \n",
       "0  DOWN  \n",
       "1  DOWN  \n",
       "2  DOWN  \n",
       "3  DOWN  \n",
       "4  DOWN  "
      ]
     },
     "execution_count": 3,
     "metadata": {},
     "output_type": "execute_result"
    }
   ],
   "source": [
    "# Dataset download\n",
    "\n",
    "dataset = datasets.fetch_openml(data_id = 44156)\n",
    "df = dataset['frame']\n",
    "df = df.dropna()\n",
    "df.head()"
   ]
  },
  {
   "cell_type": "code",
   "execution_count": 4,
   "metadata": {},
   "outputs": [
    {
     "name": "stdout",
     "output_type": "stream",
     "text": [
      "['0' '1' '2' '3' '4' '5' '6'] [5544 5605 5479 5463 5477 5453 5453]\n",
      "['0' '1' '2' '3' '4' '5' '6'] [5544 5605 5479 5463 5477 5453 5453]\n",
      "['0' '1' '2' '3' '4' '5' '6'] [5544 5605 5479 5463 5477 5453 5453]\n",
      "['0' '1' '2' '3' '4' '5' '6'] [5544 5605 5479 5463 5477 5453 5453]\n",
      "['0' '1' '2' '3' '4' '5' '6'] [5544 5605 5479 5463 5477 5453 5453]\n",
      "['0' '1' '2' '3' '4' '5' '6'] [5544 5605 5479 5463 5477 5453 5453]\n",
      "['0' '1' '2' '3' '4' '5' '6'] [5544 5605 5479 5463 5477 5453 5453]\n"
     ]
    }
   ],
   "source": [
    "for i in [8, 14, 15, 17, 18, 19, 22]:\n",
    "    a, b = np.unique(np.array(df[f'day']), return_counts=True)\n",
    "    print(a, b)"
   ]
  },
  {
   "cell_type": "code",
   "execution_count": 3,
   "metadata": {},
   "outputs": [
    {
     "name": "stdout",
     "output_type": "stream",
     "text": [
      "Data shape:  (38474, 8)\n",
      "Labels:  {0, 1}\n",
      "# train:  23084 | # val:  7695 | # test:  7695\n",
      "# train:  23084 | # val:  7695 | # test:  7695\n",
      "# train:  23084 | # val:  7695 | # test:  7695\n"
     ]
    }
   ],
   "source": [
    "# Dataset split\n",
    "\n",
    "df_npy = df.to_numpy()\n",
    "x = df_npy[:,:-1]\n",
    "y = df_npy[:,-1]\n",
    "y[y == 'DOWN'] = 0\n",
    "y[y == 'UP'] = 1\n",
    "y = y.astype(np.int8)\n",
    "print('Data shape: ', x.shape)\n",
    "print('Labels: ', set(y))\n",
    "\n",
    "for seed in range(3):\n",
    "\n",
    "    seed_everything(seed = seed)\n",
    "\n",
    "    rand_perm = np.random.permutation(len(x))\n",
    "    train_idx = rand_perm[:int(len(x)*0.6)]\n",
    "    val_idx = rand_perm[int(len(x)*0.6):int(len(x)*0.8)]\n",
    "    test_idx = rand_perm[int(len(x)*0.8):]\n",
    "    print('# train: ', len(train_idx), '| # val: ', len(val_idx), '| # test: ', len(test_idx))\n",
    "\n",
    "    xtrain = x[train_idx]\n",
    "    ytrain = y[train_idx]\n",
    "    xval = x[val_idx]\n",
    "    yval = y[val_idx]\n",
    "    xtest = x[test_idx]\n",
    "    ytest = y[test_idx]\n",
    "\n",
    "    scaler = MinMaxScaler()\n",
    "    scaler = scaler.fit(xtrain)\n",
    "    xtrain = scaler.transform(xtrain)\n",
    "    xval = scaler.transform(xval)\n",
    "    xtest = scaler.transform(xtest)\n",
    "\n",
    "    np.save(f'seed{seed}/xtrain0.npy', xtrain)\n",
    "    np.save(f'seed{seed}/xval0.npy', xval)\n",
    "    np.save(f'seed{seed}/xtest0.npy', xtest)\n",
    "    np.save(f'seed{seed}/ytrain.npy', ytrain)\n",
    "    np.save(f'seed{seed}/yval.npy', yval)\n",
    "    np.save(f'seed{seed}/ytest.npy', ytest)"
   ]
  },
  {
   "cell_type": "code",
   "execution_count": 4,
   "metadata": {},
   "outputs": [],
   "source": [
    "scaler = MinMaxScaler()\n",
    "scaler = scaler.fit(xtrain)\n",
    "xtrain = scaler.transform(xtrain)\n",
    "xval = scaler.transform(xval)\n",
    "xtest = scaler.transform(xtest)"
   ]
  },
  {
   "cell_type": "code",
   "execution_count": 6,
   "metadata": {},
   "outputs": [],
   "source": [
    "np.save('xtrain0.npy', xtrain)\n",
    "np.save('xval0.npy', xval)\n",
    "np.save('xtest0.npy', xtest)\n",
    "np.save('ytrain.npy', ytrain)\n",
    "np.save('yval.npy', yval)\n",
    "np.save('ytest.npy', ytest)"
   ]
  }
 ],
 "metadata": {
  "kernelspec": {
   "display_name": "tab",
   "language": "python",
   "name": "tab"
  },
  "language_info": {
   "codemirror_mode": {
    "name": "ipython",
    "version": 3
   },
   "file_extension": ".py",
   "mimetype": "text/x-python",
   "name": "python",
   "nbconvert_exporter": "python",
   "pygments_lexer": "ipython3",
   "version": "3.8.18"
  },
  "orig_nbformat": 4
 },
 "nbformat": 4,
 "nbformat_minor": 2
}
